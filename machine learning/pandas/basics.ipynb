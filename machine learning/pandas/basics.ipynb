{
 "cells": [
  {
   "cell_type": "code",
   "execution_count": 26,
   "metadata": {},
   "outputs": [
    {
     "name": "stdout",
     "output_type": "stream",
     "text": [
      "0    1\n",
      "1    2\n",
      "2    3\n",
      "3    4\n",
      "4    5\n",
      "dtype: int32\n",
      "name           hammad\n",
      "edu     undergraduate\n",
      "game         football\n",
      "dtype: object\n",
      "0     7\n",
      "1     9\n",
      "2    11\n",
      "3    13\n",
      "4    15\n",
      "dtype: int32\n",
      "[1 2 3 4 5]\n",
      "0     8\n",
      "1    11\n",
      "2    14\n",
      "3    17\n",
      "4    20\n",
      "dtype: int32\n"
     ]
    }
   ],
   "source": [
    "import pandas as pd\n",
    "import numpy as np\n",
    "array1=np.array([1,2,3,4,5])\n",
    "seq=np.array([\"n\",\"e\",\"g\"])\n",
    "ser1=pd.Series(array1)\n",
    "print(ser1)\n",
    "dict={\"name\":\"hammad\",\"edu\":\"undergraduate\",\"game\":\"football\"}\n",
    "# ser2=pd.Series(dict,index=seq) dont need to give index while making series out of dictionary\n",
    "dic_series =pd.Series(dict) \n",
    "print(dic_series)\n",
    "array2=np.array([6,7,8,9,10])\n",
    "ser2=pd.Series(np.add(array1,array2))\n",
    "print(ser2)\n",
    "# print(f\"{ser1+ser2}\")\n",
    "print(array1)\n",
    "print(f\"{np.add(ser1,ser2)}\")\n",
    "\n"
   ]
  },
  {
   "cell_type": "code",
   "execution_count": 31,
   "metadata": {},
   "outputs": [
    {
     "name": "stdout",
     "output_type": "stream",
     "text": [
      "adding series\n"
     ]
    },
    {
     "data": {
      "text/plain": [
       "0     NaN\n",
       "1     NaN\n",
       "2     NaN\n",
       "3     NaN\n",
       "4    10.0\n",
       "5     NaN\n",
       "6     NaN\n",
       "7     NaN\n",
       "8     NaN\n",
       "dtype: float64"
      ]
     },
     "execution_count": 31,
     "metadata": {},
     "output_type": "execute_result"
    }
   ],
   "source": [
    "s1=pd.Series({4:5,5:6,6:7,7:8,8:9})\n",
    "s2=pd.Series([1,2,3,4,5],name=\"adding series\")\n",
    "print(s2.name)\n",
    "\n",
    "s1+s2"
   ]
  },
  {
   "cell_type": "code",
   "execution_count": 3,
   "metadata": {},
   "outputs": [
    {
     "name": "stdout",
     "output_type": "stream",
     "text": [
      "    C   D   E\n",
      "A  10  14  14\n",
      "B  19  16  12 (2, 3)\n"
     ]
    }
   ],
   "source": [
    "import pandas as pd\n",
    "import numpy as np\n",
    "h=pd.DataFrame(np.random.randint(10,20,size=(2,3)),['A','B'],['C','D','E'])\n",
    "print(h,h.shape) \n"
   ]
  },
  {
   "cell_type": "code",
   "execution_count": 23,
   "metadata": {},
   "outputs": [
    {
     "data": {
      "text/html": [
       "<div>\n",
       "<style scoped>\n",
       "    .dataframe tbody tr th:only-of-type {\n",
       "        vertical-align: middle;\n",
       "    }\n",
       "\n",
       "    .dataframe tbody tr th {\n",
       "        vertical-align: top;\n",
       "    }\n",
       "\n",
       "    .dataframe thead th {\n",
       "        text-align: right;\n",
       "    }\n",
       "</style>\n",
       "<table border=\"1\" class=\"dataframe\">\n",
       "  <thead>\n",
       "    <tr style=\"text-align: right;\">\n",
       "      <th></th>\n",
       "      <th>1</th>\n",
       "      <th>2</th>\n",
       "      <th>3</th>\n",
       "      <th>4</th>\n",
       "    </tr>\n",
       "  </thead>\n",
       "  <tbody>\n",
       "    <tr>\n",
       "      <th>firstname</th>\n",
       "      <td>muhammad</td>\n",
       "      <td>muhammad</td>\n",
       "      <td>syed</td>\n",
       "      <td>mirza</td>\n",
       "    </tr>\n",
       "    <tr>\n",
       "      <th>lastname</th>\n",
       "      <td>hammad</td>\n",
       "      <td>ibad</td>\n",
       "      <td>hamid</td>\n",
       "      <td>muhammad waris</td>\n",
       "    </tr>\n",
       "  </tbody>\n",
       "</table>\n",
       "</div>"
      ],
      "text/plain": [
       "                  1         2      3               4\n",
       "firstname  muhammad  muhammad   syed           mirza\n",
       "lastname     hammad      ibad  hamid  muhammad waris"
      ]
     },
     "execution_count": 23,
     "metadata": {},
     "output_type": "execute_result"
    }
   ],
   "source": [
    "import pandas as pd\n",
    "dic={\"firstname\":pd.Series([\"muhammad\",\"muhammad\",\"syed\",\"mirza\"],index=(1,2,3,4)),\"lastname\":pd.Series(['hammad','ibad','hamid','muhammad waris'],index=(1,2,3,4))}\n",
    "pd.DataFrame.from_dict(dic,orient=\"index\")\n",
    "\n"
   ]
  },
  {
   "cell_type": "code",
   "execution_count": 18,
   "metadata": {},
   "outputs": [
    {
     "name": "stdout",
     "output_type": "stream",
     "text": [
      "                one         2 hellow      5\n",
      "firstname  muhammad  muhammad   syed  mirza\n",
      "lastname        NaN     hamid    NaN    NaN\n"
     ]
    }
   ],
   "source": [
    "dict={\"firstname\":pd.Series([\"muhammad\",\"muhammad\",\"syed\",\"mirza\"],index=(\"one\",2,\"hellow\",5)),\"lastname\":pd.Series(['hammad','ibad','hamid','muhammad waris'])}\n",
    "df1=pd.DataFrame.from_dict(dict,orient=\"index\",columns=[\"one\",2,\"hellow\",5])\n",
    "print(df1)\n",
    "\n",
    "# it is not showing column labels because key value is in series and series are already indexed and thats why passing other indexes will not match"
   ]
  },
  {
   "cell_type": "markdown",
   "metadata": {},
   "source": []
  },
  {
   "cell_type": "code",
   "execution_count": 97,
   "metadata": {},
   "outputs": [
    {
     "data": {
      "text/html": [
       "<div>\n",
       "<style scoped>\n",
       "    .dataframe tbody tr th:only-of-type {\n",
       "        vertical-align: middle;\n",
       "    }\n",
       "\n",
       "    .dataframe tbody tr th {\n",
       "        vertical-align: top;\n",
       "    }\n",
       "\n",
       "    .dataframe thead th {\n",
       "        text-align: right;\n",
       "    }\n",
       "</style>\n",
       "<table border=\"1\" class=\"dataframe\">\n",
       "  <thead>\n",
       "    <tr style=\"text-align: right;\">\n",
       "      <th></th>\n",
       "      <th>one</th>\n",
       "      <th>2</th>\n",
       "      <th>hellow</th>\n",
       "      <th>5</th>\n",
       "    </tr>\n",
       "  </thead>\n",
       "  <tbody>\n",
       "    <tr>\n",
       "      <th>fname</th>\n",
       "      <td>muhammad</td>\n",
       "      <td>mirza</td>\n",
       "      <td>syed</td>\n",
       "      <td>kamran</td>\n",
       "    </tr>\n",
       "    <tr>\n",
       "      <th>lname</th>\n",
       "      <td>hammad</td>\n",
       "      <td>waris</td>\n",
       "      <td>ali</td>\n",
       "      <td>khan</td>\n",
       "    </tr>\n",
       "  </tbody>\n",
       "</table>\n",
       "</div>"
      ],
      "text/plain": [
       "            one      2 hellow       5\n",
       "fname  muhammad  mirza   syed  kamran\n",
       "lname    hammad  waris    ali    khan"
      ]
     },
     "execution_count": 97,
     "metadata": {},
     "output_type": "execute_result"
    }
   ],
   "source": [
    "pd.DataFrame.from_dict({\"fname\":[\"muhammad\",\"mirza\",\"syed\",\"kamran\"],\"lname\":[\"hammad\",\"waris\",\"ali\",\"khan\"]},orient=\"index\",columns=[\"one\",2,\"hellow\",5])\n",
    "# it is working ok with differnt indexes cos it has no declare values as series."
   ]
  },
  {
   "cell_type": "code",
   "execution_count": 5,
   "metadata": {},
   "outputs": [
    {
     "name": "stdout",
     "output_type": "stream",
     "text": [
      "    C   D   E\n",
      "A  17  11  13\n",
      "B  19  12  12\n",
      "    C   D\n",
      "A  17  11\n",
      "B  19  12\n",
      "C    17\n",
      "D    11\n",
      "E    13\n",
      "Name: A, dtype: int32\n",
      "    C   D   E\n",
      "B  19  12  12\n",
      "13\n",
      "    D\n",
      "A  11\n",
      "B  12\n",
      "    C   D   E  total\n",
      "A  17  11  13     30\n",
      "B  19  12  12     31\n"
     ]
    }
   ],
   "source": [
    "# df2=pd.DataFrame.from_dict({\"fname\":[\"muhammad\",\"mirza\",\"syed\",\"kamran\"],\"lname\":[\"hammad\",\"waris\",\"ali\",\"khan\"]},orient=\"index\",columns=[\"one\",2,\"hellow\",5])\n",
    "import numpy as np\n",
    "h=pd.DataFrame(np.random.randint(10,20,size=(2,3)),['A','B'],['C','D','E'])\n",
    "print(h)\n",
    "print(h[['C','D']])\n",
    "print(h.loc['A'])\n",
    "print(h.iloc[[1]])\n",
    "print(h.loc['A','E'])\n",
    "print(h.loc[['A','B'],['D']])\n",
    "h['total']=h['C']+h['E']\n",
    "print(h)\n",
    "\n",
    "\n",
    "\n",
    "\n",
    "\n",
    "# print(df2)\n",
    "# print(df2[\"one\"])\n"
   ]
  },
  {
   "cell_type": "code",
   "execution_count": 6,
   "metadata": {},
   "outputs": [
    {
     "name": "stdout",
     "output_type": "stream",
     "text": [
      "    C   D   E  total\n",
      "A  17  11  13     30\n",
      "B  19  12  12     31\n",
      "    C   D   E  total\n",
      "A  17  11  13   30.0\n",
      "B  19  12  12   31.0\n",
      "B  22  11   9    NaN\n",
      "    C   D   E  total\n",
      "A  17  11  13     30\n",
      "B  19  12  12     31\n",
      "    C   E  total\n",
      "A  17  13     30\n",
      "B  19  12     31\n",
      "    C   E  total\n",
      "A  17  13     30\n",
      "B  19  12     31\n",
      "    C   D   E  total\n",
      "A  17  11  13     30\n",
      "B  19  12  12     31\n"
     ]
    },
    {
     "name": "stderr",
     "output_type": "stream",
     "text": [
      "C:\\Users\\USER\\AppData\\Local\\Temp\\ipykernel_12336\\773001164.py:5: FutureWarning: The frame.append method is deprecated and will be removed from pandas in a future version. Use pandas.concat instead.\n",
      "  print(h.append(new_row))\n"
     ]
    }
   ],
   "source": [
    "dict ={\"C\":22,\"D\":11,\"E\":9}\n",
    "new_row=pd.Series(dict,name=\"B\")\n",
    "print(h)\n",
    "new_row\n",
    "print(h.append(new_row))\n",
    "print(h)\n",
    "\n",
    "\n",
    "print(h.drop(['D'],axis=1)) \n",
    "print(h.drop(['D'],axis='columns')) \n",
    "# print(h.drop(['F'],axis='rows,index,0'))\n",
    "print(h)"
   ]
  },
  {
   "cell_type": "code",
   "execution_count": 20,
   "metadata": {},
   "outputs": [
    {
     "name": "stdout",
     "output_type": "stream",
     "text": [
      "         C   D   E  total\n",
      "sex                      \n",
      "male    17  11  13   30.0\n",
      "female  22  11   9    NaN\n",
      "         C   D   E  total\n",
      "sex                      \n",
      "male    17  11  13   30.0\n",
      "female  22  11   9    NaN\n",
      "B       22  11   9    NaN\n",
      "         C   D   E  total\n",
      "sex                      \n",
      "male    17  11  13   30.0\n",
      "female  22  11   9    NaN\n",
      "B       22  11   9    NaN\n"
     ]
    },
    {
     "name": "stderr",
     "output_type": "stream",
     "text": [
      "C:\\Users\\USER\\AppData\\Local\\Temp\\ipykernel_12336\\1142752157.py:5: FutureWarning: The frame.append method is deprecated and will be removed from pandas in a future version. Use pandas.concat instead.\n",
      "  h=h.append(new_row)\n"
     ]
    },
    {
     "ename": "ValueError",
     "evalue": "Length of values (2) does not match length of index (3)",
     "output_type": "error",
     "traceback": [
      "\u001b[1;31m---------------------------------------------------------------------------\u001b[0m",
      "\u001b[1;31mValueError\u001b[0m                                Traceback (most recent call last)",
      "\u001b[1;32mc:\\Users\\USER\\OneDrive\\Desktop\\subjects.uni\\python program\\MACHINE-LEARNINIG\\machine learning\\pandas\\basics.ipynb Cell 10\u001b[0m in \u001b[0;36m<cell line: 9>\u001b[1;34m()\u001b[0m\n\u001b[0;32m      <a href='vscode-notebook-cell:/c%3A/Users/USER/OneDrive/Desktop/subjects.uni/python%20program/MACHINE-LEARNINIG/machine%20learning/pandas/basics.ipynb#X12sZmlsZQ%3D%3D?line=6'>7</a>\u001b[0m \u001b[39m# h.drop(['B'],axis=0,inplace=True)\u001b[39;00m\n\u001b[0;32m      <a href='vscode-notebook-cell:/c%3A/Users/USER/OneDrive/Desktop/subjects.uni/python%20program/MACHINE-LEARNINIG/machine%20learning/pandas/basics.ipynb#X12sZmlsZQ%3D%3D?line=7'>8</a>\u001b[0m \u001b[39mprint\u001b[39m(h)\n\u001b[1;32m----> <a href='vscode-notebook-cell:/c%3A/Users/USER/OneDrive/Desktop/subjects.uni/python%20program/MACHINE-LEARNINIG/machine%20learning/pandas/basics.ipynb#X12sZmlsZQ%3D%3D?line=8'>9</a>\u001b[0m h[\u001b[39m\"\u001b[39;49m\u001b[39msex\u001b[39;49m\u001b[39m\"\u001b[39;49m]\u001b[39m=\u001b[39m[\u001b[39m'\u001b[39m\u001b[39mmale\u001b[39m\u001b[39m'\u001b[39m,\u001b[39m'\u001b[39m\u001b[39mfemale\u001b[39m\u001b[39m'\u001b[39m]\n\u001b[0;32m     <a href='vscode-notebook-cell:/c%3A/Users/USER/OneDrive/Desktop/subjects.uni/python%20program/MACHINE-LEARNINIG/machine%20learning/pandas/basics.ipynb#X12sZmlsZQ%3D%3D?line=9'>10</a>\u001b[0m h\u001b[39m.\u001b[39mset_index(\u001b[39m'\u001b[39m\u001b[39msex\u001b[39m\u001b[39m'\u001b[39m,inplace\u001b[39m=\u001b[39m\u001b[39mTrue\u001b[39;00m)\n\u001b[0;32m     <a href='vscode-notebook-cell:/c%3A/Users/USER/OneDrive/Desktop/subjects.uni/python%20program/MACHINE-LEARNINIG/machine%20learning/pandas/basics.ipynb#X12sZmlsZQ%3D%3D?line=10'>11</a>\u001b[0m h\n",
      "File \u001b[1;32mc:\\Users\\USER\\AppData\\Local\\Programs\\Python\\Python39\\lib\\site-packages\\pandas\\core\\frame.py:3655\u001b[0m, in \u001b[0;36mDataFrame.__setitem__\u001b[1;34m(self, key, value)\u001b[0m\n\u001b[0;32m   3652\u001b[0m     \u001b[39mself\u001b[39m\u001b[39m.\u001b[39m_setitem_array([key], value)\n\u001b[0;32m   3653\u001b[0m \u001b[39melse\u001b[39;00m:\n\u001b[0;32m   3654\u001b[0m     \u001b[39m# set column\u001b[39;00m\n\u001b[1;32m-> 3655\u001b[0m     \u001b[39mself\u001b[39;49m\u001b[39m.\u001b[39;49m_set_item(key, value)\n",
      "File \u001b[1;32mc:\\Users\\USER\\AppData\\Local\\Programs\\Python\\Python39\\lib\\site-packages\\pandas\\core\\frame.py:3832\u001b[0m, in \u001b[0;36mDataFrame._set_item\u001b[1;34m(self, key, value)\u001b[0m\n\u001b[0;32m   3822\u001b[0m \u001b[39mdef\u001b[39;00m \u001b[39m_set_item\u001b[39m(\u001b[39mself\u001b[39m, key, value) \u001b[39m-\u001b[39m\u001b[39m>\u001b[39m \u001b[39mNone\u001b[39;00m:\n\u001b[0;32m   3823\u001b[0m     \u001b[39m\"\"\"\u001b[39;00m\n\u001b[0;32m   3824\u001b[0m \u001b[39m    Add series to DataFrame in specified column.\u001b[39;00m\n\u001b[0;32m   3825\u001b[0m \n\u001b[1;32m   (...)\u001b[0m\n\u001b[0;32m   3830\u001b[0m \u001b[39m    ensure homogeneity.\u001b[39;00m\n\u001b[0;32m   3831\u001b[0m \u001b[39m    \"\"\"\u001b[39;00m\n\u001b[1;32m-> 3832\u001b[0m     value \u001b[39m=\u001b[39m \u001b[39mself\u001b[39;49m\u001b[39m.\u001b[39;49m_sanitize_column(value)\n\u001b[0;32m   3834\u001b[0m     \u001b[39mif\u001b[39;00m (\n\u001b[0;32m   3835\u001b[0m         key \u001b[39min\u001b[39;00m \u001b[39mself\u001b[39m\u001b[39m.\u001b[39mcolumns\n\u001b[0;32m   3836\u001b[0m         \u001b[39mand\u001b[39;00m value\u001b[39m.\u001b[39mndim \u001b[39m==\u001b[39m \u001b[39m1\u001b[39m\n\u001b[0;32m   3837\u001b[0m         \u001b[39mand\u001b[39;00m \u001b[39mnot\u001b[39;00m is_extension_array_dtype(value)\n\u001b[0;32m   3838\u001b[0m     ):\n\u001b[0;32m   3839\u001b[0m         \u001b[39m# broadcast across multiple columns if necessary\u001b[39;00m\n\u001b[0;32m   3840\u001b[0m         \u001b[39mif\u001b[39;00m \u001b[39mnot\u001b[39;00m \u001b[39mself\u001b[39m\u001b[39m.\u001b[39mcolumns\u001b[39m.\u001b[39mis_unique \u001b[39mor\u001b[39;00m \u001b[39misinstance\u001b[39m(\u001b[39mself\u001b[39m\u001b[39m.\u001b[39mcolumns, MultiIndex):\n",
      "File \u001b[1;32mc:\\Users\\USER\\AppData\\Local\\Programs\\Python\\Python39\\lib\\site-packages\\pandas\\core\\frame.py:4538\u001b[0m, in \u001b[0;36mDataFrame._sanitize_column\u001b[1;34m(self, value)\u001b[0m\n\u001b[0;32m   4535\u001b[0m     \u001b[39mreturn\u001b[39;00m _reindex_for_setitem(value, \u001b[39mself\u001b[39m\u001b[39m.\u001b[39mindex)\n\u001b[0;32m   4537\u001b[0m \u001b[39mif\u001b[39;00m is_list_like(value):\n\u001b[1;32m-> 4538\u001b[0m     com\u001b[39m.\u001b[39;49mrequire_length_match(value, \u001b[39mself\u001b[39;49m\u001b[39m.\u001b[39;49mindex)\n\u001b[0;32m   4539\u001b[0m \u001b[39mreturn\u001b[39;00m sanitize_array(value, \u001b[39mself\u001b[39m\u001b[39m.\u001b[39mindex, copy\u001b[39m=\u001b[39m\u001b[39mTrue\u001b[39;00m, allow_2d\u001b[39m=\u001b[39m\u001b[39mTrue\u001b[39;00m)\n",
      "File \u001b[1;32mc:\\Users\\USER\\AppData\\Local\\Programs\\Python\\Python39\\lib\\site-packages\\pandas\\core\\common.py:557\u001b[0m, in \u001b[0;36mrequire_length_match\u001b[1;34m(data, index)\u001b[0m\n\u001b[0;32m    553\u001b[0m \u001b[39m\"\"\"\u001b[39;00m\n\u001b[0;32m    554\u001b[0m \u001b[39mCheck the length of data matches the length of the index.\u001b[39;00m\n\u001b[0;32m    555\u001b[0m \u001b[39m\"\"\"\u001b[39;00m\n\u001b[0;32m    556\u001b[0m \u001b[39mif\u001b[39;00m \u001b[39mlen\u001b[39m(data) \u001b[39m!=\u001b[39m \u001b[39mlen\u001b[39m(index):\n\u001b[1;32m--> 557\u001b[0m     \u001b[39mraise\u001b[39;00m \u001b[39mValueError\u001b[39;00m(\n\u001b[0;32m    558\u001b[0m         \u001b[39m\"\u001b[39m\u001b[39mLength of values \u001b[39m\u001b[39m\"\u001b[39m\n\u001b[0;32m    559\u001b[0m         \u001b[39mf\u001b[39m\u001b[39m\"\u001b[39m\u001b[39m(\u001b[39m\u001b[39m{\u001b[39;00m\u001b[39mlen\u001b[39m(data)\u001b[39m}\u001b[39;00m\u001b[39m) \u001b[39m\u001b[39m\"\u001b[39m\n\u001b[0;32m    560\u001b[0m         \u001b[39m\"\u001b[39m\u001b[39mdoes not match length of index \u001b[39m\u001b[39m\"\u001b[39m\n\u001b[0;32m    561\u001b[0m         \u001b[39mf\u001b[39m\u001b[39m\"\u001b[39m\u001b[39m(\u001b[39m\u001b[39m{\u001b[39;00m\u001b[39mlen\u001b[39m(index)\u001b[39m}\u001b[39;00m\u001b[39m)\u001b[39m\u001b[39m\"\u001b[39m\n\u001b[0;32m    562\u001b[0m     )\n",
      "\u001b[1;31mValueError\u001b[0m: Length of values (2) does not match length of index (3)"
     ]
    }
   ],
   "source": [
    "dict ={\"C\":22,\"D\":11,\"E\":9}\n",
    "new_row=pd.Series(dict,name=\"B\")\n",
    "print(h)\n",
    "new_row\n",
    "h=h.append(new_row)\n",
    "print(h)\n",
    "# h.drop(['B'],axis=0,inplace=True)\n",
    "print(h)\n",
    "h[\"sex\"]=['male','female']\n",
    "h.set_index('sex',inplace=True)\n",
    "h"
   ]
  },
  {
   "cell_type": "code",
   "execution_count": 12,
   "metadata": {},
   "outputs": [
    {
     "name": "stdout",
     "output_type": "stream",
     "text": [
      "     a\n",
      "0  1.0\n",
      "1  NaN\n",
      "2  2.0\n",
      "3  NaN\n",
      "   a\n",
      "0  1\n",
      "1  5\n",
      "2  2\n",
      "3  3\n"
     ]
    },
    {
     "data": {
      "text/html": [
       "<div>\n",
       "<style scoped>\n",
       "    .dataframe tbody tr th:only-of-type {\n",
       "        vertical-align: middle;\n",
       "    }\n",
       "\n",
       "    .dataframe tbody tr th {\n",
       "        vertical-align: top;\n",
       "    }\n",
       "\n",
       "    .dataframe thead th {\n",
       "        text-align: right;\n",
       "    }\n",
       "</style>\n",
       "<table border=\"1\" class=\"dataframe\">\n",
       "  <thead>\n",
       "    <tr style=\"text-align: right;\">\n",
       "      <th></th>\n",
       "      <th>a</th>\n",
       "    </tr>\n",
       "  </thead>\n",
       "  <tbody>\n",
       "    <tr>\n",
       "      <th>0</th>\n",
       "      <td>1.0</td>\n",
       "    </tr>\n",
       "    <tr>\n",
       "      <th>1</th>\n",
       "      <td>5.0</td>\n",
       "    </tr>\n",
       "    <tr>\n",
       "      <th>2</th>\n",
       "      <td>2.0</td>\n",
       "    </tr>\n",
       "    <tr>\n",
       "      <th>3</th>\n",
       "      <td>3.0</td>\n",
       "    </tr>\n",
       "  </tbody>\n",
       "</table>\n",
       "</div>"
      ],
      "text/plain": [
       "     a\n",
       "0  1.0\n",
       "1  5.0\n",
       "2  2.0\n",
       "3  3.0"
      ]
     },
     "execution_count": 12,
     "metadata": {},
     "output_type": "execute_result"
    }
   ],
   "source": [
    "df1=pd.DataFrame({\"a\":[1,np.nan,2,np.nan]})\n",
    "df2=pd.DataFrame({\"a\":[1,5,2,3]})\n",
    "print(df1)\n",
    "print(df2)\n",
    "df1.combine_first(df2)\n",
    "\n"
   ]
  },
  {
   "cell_type": "code",
   "execution_count": 54,
   "metadata": {},
   "outputs": [
    {
     "name": "stdout",
     "output_type": "stream",
     "text": [
      "    c   d   e\n",
      "a  30  27  44\n",
      "b  36  42  47\n",
      "values greater than 40\n",
      "         c      d     e\n",
      "a  False  False  True\n",
      "b  False   True  True\n"
     ]
    },
    {
     "data": {
      "text/plain": [
       "a    True\n",
       "b    True\n",
       "Name: e, dtype: bool"
      ]
     },
     "execution_count": 54,
     "metadata": {},
     "output_type": "execute_result"
    }
   ],
   "source": [
    "arr_2=np.random.randint(10,50,size=(2,3))\n",
    "df_1=pd.DataFrame(arr_2,['a','b'],['c','d','e'])\n",
    "print(df_1)\n",
    "\n",
    "print(\"values greater than 40\\n \",df_1.gt(40))\n",
    "bool=df_1>=45\n",
    "df_1[bool]  \n",
    "df_1['e']>40 \n"
   ]
  },
  {
   "cell_type": "code",
   "execution_count": null,
   "metadata": {},
   "outputs": [],
   "source": []
  }
 ],
 "metadata": {
  "kernelspec": {
   "display_name": "Python 3.9.2 64-bit",
   "language": "python",
   "name": "python3"
  },
  "language_info": {
   "codemirror_mode": {
    "name": "ipython",
    "version": 3
   },
   "file_extension": ".py",
   "mimetype": "text/x-python",
   "name": "python",
   "nbconvert_exporter": "python",
   "pygments_lexer": "ipython3",
   "version": "3.9.2"
  },
  "orig_nbformat": 4,
  "vscode": {
   "interpreter": {
    "hash": "1d5c1156327dacead463cc502c55ebae8ce9c8c01979cf154173ff808e75bf55"
   }
  }
 },
 "nbformat": 4,
 "nbformat_minor": 2
}
