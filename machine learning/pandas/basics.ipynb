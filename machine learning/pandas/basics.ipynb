{
 "cells": [
  {
   "cell_type": "code",
   "execution_count": 26,
   "metadata": {},
   "outputs": [
    {
     "name": "stdout",
     "output_type": "stream",
     "text": [
      "0    1\n",
      "1    2\n",
      "2    3\n",
      "3    4\n",
      "4    5\n",
      "dtype: int32\n",
      "name           hammad\n",
      "edu     undergraduate\n",
      "game         football\n",
      "dtype: object\n",
      "0     7\n",
      "1     9\n",
      "2    11\n",
      "3    13\n",
      "4    15\n",
      "dtype: int32\n",
      "[1 2 3 4 5]\n",
      "0     8\n",
      "1    11\n",
      "2    14\n",
      "3    17\n",
      "4    20\n",
      "dtype: int32\n"
     ]
    }
   ],
   "source": [
    "import pandas as pd\n",
    "import numpy as np\n",
    "array1=np.array([1,2,3,4,5])\n",
    "seq=np.array([\"n\",\"e\",\"g\"])\n",
    "ser1=pd.Series(array1)\n",
    "print(ser1)\n",
    "dict={\"name\":\"hammad\",\"edu\":\"undergraduate\",\"game\":\"football\"}\n",
    "# ser2=pd.Series(dict,index=seq) dont need to give index while making series out of dictionary\n",
    "dic_series =pd.Series(dict) \n",
    "print(dic_series)\n",
    "array2=np.array([6,7,8,9,10])\n",
    "ser2=pd.Series(np.add(array1,array2))\n",
    "print(ser2)\n",
    "# print(f\"{ser1+ser2}\")\n",
    "print(array1)\n",
    "print(f\"{np.add(ser1,ser2)}\")\n",
    "\n"
   ]
  },
  {
   "cell_type": "code",
   "execution_count": 31,
   "metadata": {},
   "outputs": [
    {
     "name": "stdout",
     "output_type": "stream",
     "text": [
      "adding series\n"
     ]
    },
    {
     "data": {
      "text/plain": [
       "0     NaN\n",
       "1     NaN\n",
       "2     NaN\n",
       "3     NaN\n",
       "4    10.0\n",
       "5     NaN\n",
       "6     NaN\n",
       "7     NaN\n",
       "8     NaN\n",
       "dtype: float64"
      ]
     },
     "execution_count": 31,
     "metadata": {},
     "output_type": "execute_result"
    }
   ],
   "source": [
    "s1=pd.Series({4:5,5:6,6:7,7:8,8:9})\n",
    "s2=pd.Series([1,2,3,4,5],name=\"adding series\")\n",
    "print(s2.name)\n",
    "\n",
    "s1+s2"
   ]
  },
  {
   "cell_type": "code",
   "execution_count": 25,
   "metadata": {},
   "outputs": [
    {
     "ename": "NameError",
     "evalue": "name 'np' is not defined",
     "output_type": "error",
     "traceback": [
      "\u001b[1;31m---------------------------------------------------------------------------\u001b[0m",
      "\u001b[1;31mNameError\u001b[0m                                 Traceback (most recent call last)",
      "\u001b[1;32mc:\\Users\\USER\\OneDrive\\Desktop\\subjects.uni\\python program\\MACHINE-LEARNINIG\\machine learning\\pandas\\basics.ipynb Cell 3\u001b[0m in \u001b[0;36m<cell line: 1>\u001b[1;34m()\u001b[0m\n\u001b[1;32m----> <a href='vscode-notebook-cell:/c%3A/Users/USER/OneDrive/Desktop/subjects.uni/python%20program/MACHINE-LEARNINIG/machine%20learning/pandas/basics.ipynb#W2sZmlsZQ%3D%3D?line=0'>1</a>\u001b[0m h\u001b[39m=\u001b[39mpd\u001b[39m.\u001b[39mDataFrame(np\u001b[39m.\u001b[39mrandom\u001b[39m.\u001b[39mrandint(\u001b[39m10\u001b[39m,\u001b[39m20\u001b[39m,size\u001b[39m=\u001b[39m(\u001b[39m2\u001b[39m,\u001b[39m3\u001b[39m)),[\u001b[39m'\u001b[39m\u001b[39mA\u001b[39m\u001b[39m'\u001b[39m,\u001b[39m'\u001b[39m\u001b[39mB\u001b[39m\u001b[39m'\u001b[39m],[\u001b[39m'\u001b[39m\u001b[39mC\u001b[39m\u001b[39m'\u001b[39m,\u001b[39m'\u001b[39m\u001b[39mD\u001b[39m\u001b[39m'\u001b[39m,\u001b[39m'\u001b[39m\u001b[39mE\u001b[39m\u001b[39m'\u001b[39m])\n\u001b[0;32m      <a href='vscode-notebook-cell:/c%3A/Users/USER/OneDrive/Desktop/subjects.uni/python%20program/MACHINE-LEARNINIG/machine%20learning/pandas/basics.ipynb#W2sZmlsZQ%3D%3D?line=1'>2</a>\u001b[0m \u001b[39mprint\u001b[39m(h,h\u001b[39m.\u001b[39mshape)\n",
      "\u001b[1;31mNameError\u001b[0m: name 'np' is not defined"
     ]
    }
   ],
   "source": [
    "h=pd.DataFrame(np.random.randint(10,20,size=(2,3)),['A','B'],['C','D','E'])\n",
    "print(h,h.shape)\n"
   ]
  },
  {
   "cell_type": "code",
   "execution_count": 19,
   "metadata": {},
   "outputs": [
    {
     "ename": "TypeError",
     "evalue": "'numpy.ndarray' object is not callable",
     "output_type": "error",
     "traceback": [
      "\u001b[1;31m---------------------------------------------------------------------------\u001b[0m",
      "\u001b[1;31mTypeError\u001b[0m                                 Traceback (most recent call last)",
      "\u001b[1;32mc:\\Users\\USER\\OneDrive\\Desktop\\subjects.uni\\python program\\MACHINE-LEARNINIG\\machine learning\\pandas\\basics.ipynb Cell 4\u001b[0m in \u001b[0;36m<cell line: 3>\u001b[1;34m()\u001b[0m\n\u001b[0;32m      <a href='vscode-notebook-cell:/c%3A/Users/USER/OneDrive/Desktop/subjects.uni/python%20program/MACHINE-LEARNINIG/machine%20learning/pandas/basics.ipynb#W3sZmlsZQ%3D%3D?line=0'>1</a>\u001b[0m \u001b[39mimport\u001b[39;00m \u001b[39mpandas\u001b[39;00m \u001b[39mas\u001b[39;00m \u001b[39mpd\u001b[39;00m\n\u001b[0;32m      <a href='vscode-notebook-cell:/c%3A/Users/USER/OneDrive/Desktop/subjects.uni/python%20program/MACHINE-LEARNINIG/machine%20learning/pandas/basics.ipynb#W3sZmlsZQ%3D%3D?line=1'>2</a>\u001b[0m dic\u001b[39m=\u001b[39mpd\u001b[39m.\u001b[39mDataFrame({\u001b[39m\"\u001b[39m\u001b[39mfirstname\u001b[39m\u001b[39m\"\u001b[39m:pd\u001b[39m.\u001b[39mSeries([\u001b[39m\"\u001b[39m\u001b[39mmuhammad\u001b[39m\u001b[39m\"\u001b[39m,\u001b[39m\"\u001b[39m\u001b[39mmuhammad\u001b[39m\u001b[39m\"\u001b[39m,\u001b[39m\"\u001b[39m\u001b[39msyed\u001b[39m\u001b[39m\"\u001b[39m,\u001b[39m\"\u001b[39m\u001b[39mmirza\u001b[39m\u001b[39m\"\u001b[39m],index\u001b[39m=\u001b[39m(\u001b[39m1\u001b[39m,\u001b[39m2\u001b[39m,\u001b[39m3\u001b[39m,\u001b[39m4\u001b[39m)),\u001b[39m\"\u001b[39m\u001b[39mlastname\u001b[39m\u001b[39m\"\u001b[39m:pd\u001b[39m.\u001b[39mSeries([\u001b[39m'\u001b[39m\u001b[39mhammad\u001b[39m\u001b[39m'\u001b[39m,\u001b[39m'\u001b[39m\u001b[39mibad\u001b[39m\u001b[39m'\u001b[39m,\u001b[39m'\u001b[39m\u001b[39mhamid\u001b[39m\u001b[39m'\u001b[39m,\u001b[39m'\u001b[39m\u001b[39mmuhammad waris\u001b[39m\u001b[39m'\u001b[39m],index\u001b[39m=\u001b[39m(\u001b[39m1\u001b[39m,\u001b[39m2\u001b[39m,\u001b[39m3\u001b[39m,\u001b[39m4\u001b[39m))})\n\u001b[1;32m----> <a href='vscode-notebook-cell:/c%3A/Users/USER/OneDrive/Desktop/subjects.uni/python%20program/MACHINE-LEARNINIG/machine%20learning/pandas/basics.ipynb#W3sZmlsZQ%3D%3D?line=2'>3</a>\u001b[0m pd\u001b[39m.\u001b[39;49mDataFrame\u001b[39m.\u001b[39;49mfrom_dict(dic,orient\u001b[39m=\u001b[39;49m\u001b[39m'\u001b[39;49m\u001b[39mindex\u001b[39;49m\u001b[39m'\u001b[39;49m)\n",
      "File \u001b[1;32mc:\\Users\\USER\\AppData\\Local\\Programs\\Python\\Python39\\lib\\site-packages\\pandas\\core\\frame.py:1666\u001b[0m, in \u001b[0;36mDataFrame.from_dict\u001b[1;34m(cls, data, orient, dtype, columns)\u001b[0m\n\u001b[0;32m   1663\u001b[0m \u001b[39mif\u001b[39;00m orient \u001b[39m==\u001b[39m \u001b[39m\"\u001b[39m\u001b[39mindex\u001b[39m\u001b[39m\"\u001b[39m:\n\u001b[0;32m   1664\u001b[0m     \u001b[39mif\u001b[39;00m \u001b[39mlen\u001b[39m(data) \u001b[39m>\u001b[39m \u001b[39m0\u001b[39m:\n\u001b[0;32m   1665\u001b[0m         \u001b[39m# TODO speed up Series case\u001b[39;00m\n\u001b[1;32m-> 1666\u001b[0m         \u001b[39mif\u001b[39;00m \u001b[39misinstance\u001b[39m(\u001b[39mlist\u001b[39m(data\u001b[39m.\u001b[39;49mvalues())[\u001b[39m0\u001b[39m], (Series, \u001b[39mdict\u001b[39m)):\n\u001b[0;32m   1667\u001b[0m             data \u001b[39m=\u001b[39m _from_nested_dict(data)\n\u001b[0;32m   1668\u001b[0m         \u001b[39melse\u001b[39;00m:\n",
      "\u001b[1;31mTypeError\u001b[0m: 'numpy.ndarray' object is not callable"
     ]
    }
   ],
   "source": [
    "import pandas as pd\n",
    "dic=pd.DataFrame({\"firstname\":pd.Series([\"muhammad\",\"muhammad\",\"syed\",\"mirza\"],index=(1,2,3,4)),\"lastname\":pd.Series(['hammad','ibad','hamid','muhammad waris'],index=(1,2,3,4))})\n",
    "pd.DataFrame.from_dict(dic,orient='index')\n",
    "\n"
   ]
  },
  {
   "cell_type": "code",
   "execution_count": 18,
   "metadata": {},
   "outputs": [
    {
     "name": "stdout",
     "output_type": "stream",
     "text": [
      "                one         2 hellow      5\n",
      "firstname  muhammad  muhammad   syed  mirza\n",
      "lastname        NaN     hamid    NaN    NaN\n"
     ]
    }
   ],
   "source": [
    "dict={\"firstname\":pd.Series([\"muhammad\",\"muhammad\",\"syed\",\"mirza\"],index=(\"one\",2,\"hellow\",5)),\"lastname\":pd.Series(['hammad','ibad','hamid','muhammad waris'])}\n",
    "df1=pd.DataFrame.from_dict(dict,orient=\"index\",columns=[\"one\",2,\"hellow\",5])\n",
    "print(df1)\n",
    "\n",
    "# it is not showing column labels because key value is in series and series are already indexed and thats why passing other indexes will not match"
   ]
  },
  {
   "cell_type": "markdown",
   "metadata": {},
   "source": []
  },
  {
   "cell_type": "code",
   "execution_count": 97,
   "metadata": {},
   "outputs": [
    {
     "data": {
      "text/html": [
       "<div>\n",
       "<style scoped>\n",
       "    .dataframe tbody tr th:only-of-type {\n",
       "        vertical-align: middle;\n",
       "    }\n",
       "\n",
       "    .dataframe tbody tr th {\n",
       "        vertical-align: top;\n",
       "    }\n",
       "\n",
       "    .dataframe thead th {\n",
       "        text-align: right;\n",
       "    }\n",
       "</style>\n",
       "<table border=\"1\" class=\"dataframe\">\n",
       "  <thead>\n",
       "    <tr style=\"text-align: right;\">\n",
       "      <th></th>\n",
       "      <th>one</th>\n",
       "      <th>2</th>\n",
       "      <th>hellow</th>\n",
       "      <th>5</th>\n",
       "    </tr>\n",
       "  </thead>\n",
       "  <tbody>\n",
       "    <tr>\n",
       "      <th>fname</th>\n",
       "      <td>muhammad</td>\n",
       "      <td>mirza</td>\n",
       "      <td>syed</td>\n",
       "      <td>kamran</td>\n",
       "    </tr>\n",
       "    <tr>\n",
       "      <th>lname</th>\n",
       "      <td>hammad</td>\n",
       "      <td>waris</td>\n",
       "      <td>ali</td>\n",
       "      <td>khan</td>\n",
       "    </tr>\n",
       "  </tbody>\n",
       "</table>\n",
       "</div>"
      ],
      "text/plain": [
       "            one      2 hellow       5\n",
       "fname  muhammad  mirza   syed  kamran\n",
       "lname    hammad  waris    ali    khan"
      ]
     },
     "execution_count": 97,
     "metadata": {},
     "output_type": "execute_result"
    }
   ],
   "source": [
    "pd.DataFrame.from_dict({\"fname\":[\"muhammad\",\"mirza\",\"syed\",\"kamran\"],\"lname\":[\"hammad\",\"waris\",\"ali\",\"khan\"]},orient=\"index\",columns=[\"one\",2,\"hellow\",5])\n",
    "# it is working ok with differnt indexes cos it has no declare values as series."
   ]
  },
  {
   "cell_type": "code",
   "execution_count": 23,
   "metadata": {},
   "outputs": [
    {
     "ename": "NameError",
     "evalue": "name 'h' is not defined",
     "output_type": "error",
     "traceback": [
      "\u001b[1;31m---------------------------------------------------------------------------\u001b[0m",
      "\u001b[1;31mNameError\u001b[0m                                 Traceback (most recent call last)",
      "\u001b[1;32mc:\\Users\\USER\\OneDrive\\Desktop\\subjects.uni\\python program\\MACHINE-LEARNINIG\\machine learning\\pandas\\basics.ipynb Cell 8\u001b[0m in \u001b[0;36m<cell line: 2>\u001b[1;34m()\u001b[0m\n\u001b[0;32m      <a href='vscode-notebook-cell:/c%3A/Users/USER/OneDrive/Desktop/subjects.uni/python%20program/MACHINE-LEARNINIG/machine%20learning/pandas/basics.ipynb#X10sZmlsZQ%3D%3D?line=0'>1</a>\u001b[0m \u001b[39m# df2=pd.DataFrame.from_dict({\"fname\":[\"muhammad\",\"mirza\",\"syed\",\"kamran\"],\"lname\":[\"hammad\",\"waris\",\"ali\",\"khan\"]},orient=\"index\",columns=[\"one\",2,\"hellow\",5])\u001b[39;00m\n\u001b[1;32m----> <a href='vscode-notebook-cell:/c%3A/Users/USER/OneDrive/Desktop/subjects.uni/python%20program/MACHINE-LEARNINIG/machine%20learning/pandas/basics.ipynb#X10sZmlsZQ%3D%3D?line=1'>2</a>\u001b[0m \u001b[39mprint\u001b[39m(h)\n\u001b[0;32m      <a href='vscode-notebook-cell:/c%3A/Users/USER/OneDrive/Desktop/subjects.uni/python%20program/MACHINE-LEARNINIG/machine%20learning/pandas/basics.ipynb#X10sZmlsZQ%3D%3D?line=2'>3</a>\u001b[0m \u001b[39mprint\u001b[39m(h[[\u001b[39m'\u001b[39m\u001b[39mC\u001b[39m\u001b[39m'\u001b[39m,\u001b[39m'\u001b[39m\u001b[39mD\u001b[39m\u001b[39m'\u001b[39m]])\n\u001b[0;32m      <a href='vscode-notebook-cell:/c%3A/Users/USER/OneDrive/Desktop/subjects.uni/python%20program/MACHINE-LEARNINIG/machine%20learning/pandas/basics.ipynb#X10sZmlsZQ%3D%3D?line=3'>4</a>\u001b[0m \u001b[39mprint\u001b[39m(h\u001b[39m.\u001b[39mloc[\u001b[39m'\u001b[39m\u001b[39mA\u001b[39m\u001b[39m'\u001b[39m])\n",
      "\u001b[1;31mNameError\u001b[0m: name 'h' is not defined"
     ]
    }
   ],
   "source": [
    "# df2=pd.DataFrame.from_dict({\"fname\":[\"muhammad\",\"mirza\",\"syed\",\"kamran\"],\"lname\":[\"hammad\",\"waris\",\"ali\",\"khan\"]},orient=\"index\",columns=[\"one\",2,\"hellow\",5])\n",
    "print(h)\n",
    "print(h[['C','D']])\n",
    "print(h.loc['A'])\n",
    "print(h.iloc[[1]])\n",
    "print(h.loc['A','E'])\n",
    "print(h.loc[['A','B'],['D']])\n",
    "h['total']=h['C']+h['E']\n",
    "print(h)\n",
    "\n",
    "\n",
    "\n",
    "\n",
    "\n",
    "# print(df2)\n",
    "# print(df2[\"one\"])\n"
   ]
  },
  {
   "cell_type": "code",
   "execution_count": 265,
   "metadata": {},
   "outputs": [
    {
     "name": "stdout",
     "output_type": "stream",
     "text": [
      "    D  E\n",
      "F  11  9\n",
      "A  11  9\n",
      "B  11  9\n",
      "    D  E     C\n",
      "F  11  9   NaN\n",
      "A  11  9   NaN\n",
      "B  11  9   NaN\n",
      "B  11  9  22.0\n",
      "    D  E\n",
      "F  11  9\n",
      "A  11  9\n",
      "B  11  9\n",
      "   E\n",
      "F  9\n",
      "A  9\n",
      "B  9\n",
      "   E\n",
      "F  9\n",
      "A  9\n",
      "B  9\n",
      "    D  E\n",
      "F  11  9\n",
      "A  11  9\n",
      "B  11  9\n"
     ]
    },
    {
     "name": "stderr",
     "output_type": "stream",
     "text": [
      "C:\\Users\\USER\\AppData\\Local\\Temp\\ipykernel_13504\\773001164.py:5: FutureWarning: The frame.append method is deprecated and will be removed from pandas in a future version. Use pandas.concat instead.\n",
      "  print(h.append(new_row))\n"
     ]
    }
   ],
   "source": [
    "dict ={\"C\":22,\"D\":11,\"E\":9}\n",
    "new_row=pd.Series(dict,name=\"B\")\n",
    "print(h)\n",
    "new_row\n",
    "print(h.append(new_row))\n",
    "print(h)\n",
    "\n",
    "\n",
    "print(h.drop(['D'],axis=1)) \n",
    "print(h.drop(['D'],axis='columns')) \n",
    "# print(h.drop(['F'],axis='rows,index,0'))\n",
    "print(h)"
   ]
  },
  {
   "cell_type": "code",
   "execution_count": 281,
   "metadata": {},
   "outputs": [
    {
     "name": "stdout",
     "output_type": "stream",
     "text": [
      "         D  E   C\n",
      "sex              \n",
      "male    11  9 NaN\n",
      "female  11  9 NaN\n",
      "         D  E     C\n",
      "sex                \n",
      "male    11  9   NaN\n",
      "female  11  9   NaN\n",
      "B       11  9  22.0\n"
     ]
    },
    {
     "name": "stderr",
     "output_type": "stream",
     "text": [
      "C:\\Users\\USER\\AppData\\Local\\Temp\\ipykernel_13504\\599191012.py:5: FutureWarning: The frame.append method is deprecated and will be removed from pandas in a future version. Use pandas.concat instead.\n",
      "  h=h.append(new_row)\n"
     ]
    },
    {
     "data": {
      "text/html": [
       "<div>\n",
       "<style scoped>\n",
       "    .dataframe tbody tr th:only-of-type {\n",
       "        vertical-align: middle;\n",
       "    }\n",
       "\n",
       "    .dataframe tbody tr th {\n",
       "        vertical-align: top;\n",
       "    }\n",
       "\n",
       "    .dataframe thead th {\n",
       "        text-align: right;\n",
       "    }\n",
       "</style>\n",
       "<table border=\"1\" class=\"dataframe\">\n",
       "  <thead>\n",
       "    <tr style=\"text-align: right;\">\n",
       "      <th></th>\n",
       "      <th>D</th>\n",
       "      <th>E</th>\n",
       "      <th>C</th>\n",
       "    </tr>\n",
       "    <tr>\n",
       "      <th>sex</th>\n",
       "      <th></th>\n",
       "      <th></th>\n",
       "      <th></th>\n",
       "    </tr>\n",
       "  </thead>\n",
       "  <tbody>\n",
       "    <tr>\n",
       "      <th>male</th>\n",
       "      <td>11</td>\n",
       "      <td>9</td>\n",
       "      <td>NaN</td>\n",
       "    </tr>\n",
       "    <tr>\n",
       "      <th>female</th>\n",
       "      <td>11</td>\n",
       "      <td>9</td>\n",
       "      <td>NaN</td>\n",
       "    </tr>\n",
       "  </tbody>\n",
       "</table>\n",
       "</div>"
      ],
      "text/plain": [
       "         D  E   C\n",
       "sex              \n",
       "male    11  9 NaN\n",
       "female  11  9 NaN"
      ]
     },
     "execution_count": 281,
     "metadata": {},
     "output_type": "execute_result"
    }
   ],
   "source": [
    "dict ={\"C\":22,\"D\":11,\"E\":9}\n",
    "new_row=pd.Series(dict,name=\"B\")\n",
    "print(h)\n",
    "new_row\n",
    "h=h.append(new_row)\n",
    "print(h)\n",
    "h.drop(['B'],axis=0,inplace=True)\n",
    "h[\"sex\"]=['male','female']\n",
    "h.set_index('sex',inplace=True)\n",
    "h"
   ]
  },
  {
   "cell_type": "code",
   "execution_count": null,
   "metadata": {},
   "outputs": [],
   "source": []
  }
 ],
 "metadata": {
  "kernelspec": {
   "display_name": "Python 3.9.2 64-bit",
   "language": "python",
   "name": "python3"
  },
  "language_info": {
   "codemirror_mode": {
    "name": "ipython",
    "version": 3
   },
   "file_extension": ".py",
   "mimetype": "text/x-python",
   "name": "python",
   "nbconvert_exporter": "python",
   "pygments_lexer": "ipython3",
   "version": "3.9.2"
  },
  "orig_nbformat": 4,
  "vscode": {
   "interpreter": {
    "hash": "1d5c1156327dacead463cc502c55ebae8ce9c8c01979cf154173ff808e75bf55"
   }
  }
 },
 "nbformat": 4,
 "nbformat_minor": 2
}
