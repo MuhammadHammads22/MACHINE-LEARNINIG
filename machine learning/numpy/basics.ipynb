{
 "cells": [
  {
   "cell_type": "code",
   "execution_count": 1,
   "id": "726a6a0a",
   "metadata": {},
   "outputs": [
    {
     "name": "stdout",
     "output_type": "stream",
     "text": [
      "int32\n",
      "(5,)\n",
      "1\n",
      "20\n",
      "4\n",
      "20\n"
     ]
    }
   ],
   "source": [
    "\n",
    "\n",
    "import numpy as np\n",
    "n=np.array([1,2,3,4,5],dtype='int32')\n",
    "print(n.dtype)\n",
    "print (n.shape)\n",
    "print(n.ndim)\n",
    "print(n.nbytes)\n",
    "print(n.itemsize)\n",
    "print(n.size*n.itemsize)\n",
    "\n"
   ]
  },
  {
   "cell_type": "code",
   "execution_count": 35,
   "id": "8c6b480e",
   "metadata": {},
   "outputs": [
    {
     "name": "stdout",
     "output_type": "stream",
     "text": [
      "[[ 1  2  3  4  5]\n",
      " [ 6  7  8  9 10]]\n",
      "8\n",
      "[4 9]\n",
      "[ 6  7  8  9 10]\n",
      "[ 8  9 10]\n"
     ]
    }
   ],
   "source": [
    "a=np.array([[1,2,3,4,5],[6,7,8,9,10]])\n",
    "print(a)\n",
    "print(a[1,2])\n",
    "print(a[:,3])\n",
    "print(a[1,:])\n",
    "print(a[1,2:5])"
   ]
  },
  {
   "cell_type": "code",
   "execution_count": 50,
   "id": "b0a8f891",
   "metadata": {},
   "outputs": [
    {
     "name": "stdout",
     "output_type": "stream",
     "text": [
      "[[[1 2 3]\n",
      "  [4 5 6]]\n",
      "\n",
      " [[6 5 4]\n",
      "  [3 2 1]]]\n",
      "3 (2, 2, 3)\n",
      "[5 2]\n"
     ]
    }
   ],
   "source": [
    "a=np.array([[[1,2,3],[4,5,6]],[[6,5,4],[3,2,1]]])\n",
    "print(a)\n",
    "print(a.ndim,a.shape)\n",
    "print(a[:,1,1])"
   ]
  },
  {
   "cell_type": "code",
   "execution_count": 43,
   "id": "ae2c02be",
   "metadata": {},
   "outputs": [
    {
     "data": {
      "text/plain": [
       "array([[[0., 0., 0.],\n",
       "        [0., 0., 0.],\n",
       "        [0., 0., 0.]],\n",
       "\n",
       "       [[0., 0., 0.],\n",
       "        [0., 0., 0.],\n",
       "        [0., 0., 0.]],\n",
       "\n",
       "       [[0., 0., 0.],\n",
       "        [0., 0., 0.],\n",
       "        [0., 0., 0.]],\n",
       "\n",
       "       [[0., 0., 0.],\n",
       "        [0., 0., 0.],\n",
       "        [0., 0., 0.]],\n",
       "\n",
       "       [[0., 0., 0.],\n",
       "        [0., 0., 0.],\n",
       "        [0., 0., 0.]]])"
      ]
     },
     "execution_count": 43,
     "metadata": {},
     "output_type": "execute_result"
    }
   ],
   "source": [
    "np.zeros((5,3,3))\n"
   ]
  },
  {
   "cell_type": "code",
   "execution_count": 45,
   "id": "05b3037a",
   "metadata": {},
   "outputs": [
    {
     "data": {
      "text/plain": [
       "array([[1., 1.],\n",
       "       [1., 1.]])"
      ]
     },
     "execution_count": 45,
     "metadata": {},
     "output_type": "execute_result"
    }
   ],
   "source": [
    "np.ones((2,2),datatype=\"int32\")"
   ]
  },
  {
   "cell_type": "code",
   "execution_count": 59,
   "id": "1debe9f4",
   "metadata": {},
   "outputs": [
    {
     "data": {
      "text/plain": [
       "array([[22., 22., 22.],\n",
       "       [22., 22., 22.],\n",
       "       [22., 22., 22.]])"
      ]
     },
     "execution_count": 59,
     "metadata": {},
     "output_type": "execute_result"
    }
   ],
   "source": [
    "np.full((3,3),22,dtype=\"float\")\n",
    "\n",
    "\n"
   ]
  },
  {
   "cell_type": "code",
   "execution_count": 61,
   "id": "4c52b03e",
   "metadata": {},
   "outputs": [
    {
     "name": "stdout",
     "output_type": "stream",
     "text": [
      "48\n",
      "12\n",
      "48\n",
      "[[[5 5 5]\n",
      "  [5 5 5]]\n",
      "\n",
      " [[5 5 5]\n",
      "  [5 5 5]]]\n",
      "[[[1 1 1]\n",
      "  [1 1 1]]\n",
      "\n",
      " [[1 1 1]\n",
      "  [1 1 1]]]\n"
     ]
    }
   ],
   "source": [
    "print(a.nbytes)\n",
    "print(a.size)\n",
    "print(a.size*a.itemsize)\n",
    "print(np.full_like(a,5))\n",
    "print(np.full(a.shape,1))"
   ]
  },
  {
   "cell_type": "code",
   "execution_count": 275,
   "id": "7d86b6a7",
   "metadata": {},
   "outputs": [
    {
     "name": "stdout",
     "output_type": "stream",
     "text": [
      "[[0.27028068 0.29954365 0.33383098]\n",
      " [0.81769483 0.20747269 0.47548767]\n",
      " [0.66240682 0.78107772 0.48003149]\n",
      " [0.68962094 0.77740959 0.92016649]]\n",
      "[[9 9]\n",
      " [7 9]\n",
      " [9 1]\n",
      " [2 3]]\n",
      "[0.22896047 0.43637667 0.09133032 0.2976752  0.62430184]\n"
     ]
    },
    {
     "data": {
      "text/plain": [
       "array([[2, 3],\n",
       "       [3, 0]])"
      ]
     },
     "execution_count": 275,
     "metadata": {},
     "output_type": "execute_result"
    }
   ],
   "source": [
    "print(np.random.rand(4,3))\n",
    "print(np.random.randint(1,10,size=(4,2)))\n",
    "print(np.random.random_sample(a.shape))\n",
    "np.random.randint(-2,5,size=(2,2))"
   ]
  },
  {
   "cell_type": "code",
   "execution_count": null,
   "id": "8e1d9b68",
   "metadata": {},
   "outputs": [],
   "source": []
  },
  {
   "cell_type": "code",
   "execution_count": 72,
   "id": "65b98fb2",
   "metadata": {},
   "outputs": [
    {
     "name": "stdout",
     "output_type": "stream",
     "text": [
      "[[1. 0. 0. 0. 0.]\n",
      " [0. 1. 0. 0. 0.]\n",
      " [0. 0. 1. 0. 0.]\n",
      " [0. 0. 0. 1. 0.]\n",
      " [0. 0. 0. 0. 1.]]\n"
     ]
    }
   ],
   "source": [
    "print(np.identity(5))\n",
    "\n",
    "\n"
   ]
  },
  {
   "cell_type": "code",
   "execution_count": 78,
   "id": "868f2e41",
   "metadata": {},
   "outputs": [
    {
     "name": "stdout",
     "output_type": "stream",
     "text": [
      "[[1 2 3]\n",
      " [1 2 3]\n",
      " [4 5 6]\n",
      " [4 5 6]]\n",
      "[[1 1 2 2 3 3]\n",
      " [4 4 5 5 6 6]]\n"
     ]
    }
   ],
   "source": [
    "# axis =1 horizontally(inside column)\n",
    "# axis=0 vertical (whole row first)\n",
    "array=np.array([[1,2,3],[4,5,6]])\n",
    "r1=np.repeat(array,2,axis=0)\n",
    "r2=np.repeat(array,2,axis=1)\n",
    "print(r1)\n",
    "print(r2)"
   ]
  },
  {
   "cell_type": "code",
   "execution_count": 85,
   "id": "da4ba4a9",
   "metadata": {},
   "outputs": [
    {
     "name": "stdout",
     "output_type": "stream",
     "text": [
      "[[1. 1. 1. 1. 1.]\n",
      " [1. 1. 1. 1. 1.]\n",
      " [1. 1. 1. 1. 1.]\n",
      " [1. 1. 1. 1. 1.]\n",
      " [1. 1. 1. 1. 1.]]\n",
      "[[1. 1. 1. 1. 1.]\n",
      " [1. 0. 0. 0. 1.]\n",
      " [1. 0. 9. 0. 1.]\n",
      " [1. 0. 0. 0. 1.]\n",
      " [1. 1. 1. 1. 1.]]\n"
     ]
    }
   ],
   "source": [
    "a=np.ones((5,5))\n",
    "print(a)\n",
    "z=np.zeros((3,3))\n",
    "z[1,1]=9\n",
    "a[1:4,1:4]=z\n",
    "print(a)"
   ]
  },
  {
   "cell_type": "code",
   "execution_count": 108,
   "id": "f78a8421",
   "metadata": {},
   "outputs": [
    {
     "name": "stdout",
     "output_type": "stream",
     "text": [
      "[1 2 3 4 5]\n",
      "[3 4 5 6 7]\n",
      "[-1  0  1  2  3]\n",
      "[1. 1. 1. 1. 1.]\n",
      "[ 1  4  9 16 25]\n",
      "[2 2 4 4 6]\n",
      "[2 2 4 4 6]\n",
      "[[ 153  113]\n",
      " [1741  354]]\n",
      "[ 1  4  9 16 25]\n",
      "[ 0.54030231 -0.41614684 -0.9899925  -0.65364362  0.28366219]\n"
     ]
    }
   ],
   "source": [
    "a=np.array([1,2,3,4,5])\n",
    "print(a)\n",
    "print(a+2)\n",
    "print(a-2)\n",
    "print(a/a)\n",
    "print(a*a)\n",
    "b=np.array([1,0,1,0,1])\n",
    "print(a+b)\n",
    "print(np.add(a,b))\n",
    "x=np.array([[1,2,3],[22,31,1]])\n",
    "y=np.array([[1,2],[55,9],[14,31]])\n",
    "# print(x*y)throwing error\n",
    "print(np.matmul(x,y))\n",
    "print(a**2)\n",
    "print(np.cos(a))"
   ]
  },
  {
   "cell_type": "code",
   "execution_count": 116,
   "id": "603314dc",
   "metadata": {},
   "outputs": [
    {
     "name": "stdout",
     "output_type": "stream",
     "text": [
      "[[ 1 15 10]\n",
      " [ 3 19  9]\n",
      " [ 5 13  1]]\n",
      "-27.999999999999986\n"
     ]
    }
   ],
   "source": [
    "n=np.random.randint(1,20, size=(3,3))\n",
    "print(n)\n",
    "print(np.linalg.det(n))"
   ]
  },
  {
   "cell_type": "code",
   "execution_count": 124,
   "id": "729ec8a5",
   "metadata": {},
   "outputs": [
    {
     "name": "stdout",
     "output_type": "stream",
     "text": [
      "[1 2 3]\n",
      "[1 4]\n",
      "[4 5 6]\n",
      "[3 6]\n",
      "[5 7 9]\n",
      "[ 6 15]\n",
      "[1 2 3 4 5 6]\n",
      "[[1 2]\n",
      " [3 4]\n",
      " [5 6]]\n"
     ]
    }
   ],
   "source": [
    "stats=np.array([[1,2,3],[4,5,6]])\n",
    "print(np.min(stats,axis=0))\n",
    "print(np.min(stats,axis=1))\n",
    "print(np.max(stats,axis=0))\n",
    "print(np.max(stats,axis=1))\n",
    "print(np.sum(stats,axis=0))\n",
    "print(np.sum(stats,axis=1))\n",
    "print(stats.reshape(6))\n",
    "print(stats.reshape(3,2))\n",
    "\n",
    "\n",
    "\n",
    "\n"
   ]
  },
  {
   "cell_type": "code",
   "execution_count": 135,
   "id": "f80cc07c",
   "metadata": {},
   "outputs": [
    {
     "name": "stdout",
     "output_type": "stream",
     "text": [
      "[[1. 1. 1.]\n",
      " [1. 1. 1.]\n",
      " [0. 0. 0.]\n",
      " [0. 0. 0.]\n",
      " [0. 0. 0.]\n",
      " [0. 0. 0.]\n",
      " [0. 0. 0.]]\n",
      "[[1. 1. 1. 1. 1. 0. 0. 0.]\n",
      " [1. 1. 1. 1. 1. 0. 0. 0.]]\n"
     ]
    }
   ],
   "source": [
    "v1=np.ones((2,3))\n",
    "v2=np.zeros((5,3))\n",
    "print(np.vstack((v1,v2)))\n",
    "v1=np.ones((2,5))\n",
    "v2=np.zeros((2,3))\n",
    "print(np.hstack((v1,v2)))\n",
    "\n"
   ]
  },
  {
   "cell_type": "code",
   "execution_count": 276,
   "id": "72bce2cf",
   "metadata": {},
   "outputs": [
    {
     "name": "stdout",
     "output_type": "stream",
     "text": [
      "[[717 823  13 924  57 954 197 995 567 584 333 127 390  75 444 140 839  13]\n",
      " [  9 200 787 858 436 413 718 240 389 280  92 169  70  39 316 781 350 345]\n",
      " [669 538 433 299 111 871 776 497 463 495 747 156 184 432 606 750 650 676]]\n",
      "[717 823 924  57 954 197 995 567 584 333 127 390  75 444 140 839 200 787\n",
      " 858 436 413 718 240 389 280  92 169  70 316 781 350 345 669 538 433 299\n",
      " 111 871 776 497 463 495 747 156 184 432 606 750 650 676]\n",
      "[ True  True  True  True  True  True  True  True  True  True  True  True\n",
      "  True  True  True  True  True  True]\n",
      "[ True  True  True]\n",
      "[False  True False  True  True  True  True  True  True  True  True  True\n",
      "  True False  True  True  True False]\n",
      "[False False  True]\n",
      "[57 75 92 70]\n",
      "[717 823  13 924 954 197 995 567 584 333 127 390 444 140 839  13   9 200\n",
      " 787 858 436 413 718 240 389 280 169  39 316 781 350 345 669 538 433 299\n",
      " 111 871 776 497 463 495 747 156 184 432 606 750 650 676]\n"
     ]
    }
   ],
   "source": [
    "array=np.random.randint(1000,size=(3,18))\n",
    "print(array)\n",
    "print(array[array>50])\n",
    "print(np.any(array>50,axis=0))\n",
    "print(np.any(array>50,axis=1))\n",
    "print(np.all(array>50,axis=0))\n",
    "print(np.all(array>50,axis=1))\n",
    "print(array[(array>50) & (array<100)])\n",
    "print(array[~((array>50) & (array<100))])\n"
   ]
  },
  {
   "cell_type": "code",
   "execution_count": null,
   "id": "212c47d8",
   "metadata": {},
   "outputs": [],
   "source": []
  }
 ],
 "metadata": {
  "kernelspec": {
   "display_name": "Python 3.9.2 64-bit",
   "language": "python",
   "name": "python3"
  },
  "language_info": {
   "codemirror_mode": {
    "name": "ipython",
    "version": 3
   },
   "file_extension": ".py",
   "mimetype": "text/x-python",
   "name": "python",
   "nbconvert_exporter": "python",
   "pygments_lexer": "ipython3",
   "version": "3.9.2"
  },
  "vscode": {
   "interpreter": {
    "hash": "1d5c1156327dacead463cc502c55ebae8ce9c8c01979cf154173ff808e75bf55"
   }
  }
 },
 "nbformat": 4,
 "nbformat_minor": 5
}
